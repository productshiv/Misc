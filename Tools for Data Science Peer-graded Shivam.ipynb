{
 "cells": [
  {
   "cell_type": "markdown",
   "id": "faf745f0",
   "metadata": {},
   "source": [
    "<H1>Notebook for assignment of Tools For Data Science<H1>"
   ]
  },
  {
   "cell_type": "markdown",
   "id": "e3a92563",
   "metadata": {},
   "source": [
    "<b>Shivam Srivastava </b><br>Product Manager"
   ]
  },
  {
   "cell_type": "markdown",
   "id": "d00ce2ec",
   "metadata": {},
   "source": [
    "<i>I am interested in data science because data i leverage data for business decision making in,I want to be able analyse raw data and answer the questions help me with my business decision.Having huge command of Data science it will personally help me to make good business decisions. <i>"
   ]
  },
  {
   "cell_type": "markdown",
   "id": "73b24002-44d7-49d9-a4a5-b060d93c1050",
   "metadata": {},
   "source": [
    "## Data Science Languages\n",
    "\n",
    "- Python\n",
    "- R\n",
    "- SQL\n",
    "\n",
    "## Data Science Libraries\n",
    "\n",
    "- Pandas\n",
    "- NumPy\n",
    "- Matplotlib"
   ]
  },
  {
   "cell_type": "markdown",
   "id": "ed6d25f5-8613-41b6-a8d8-a3f8cd68aa0a",
   "metadata": {},
   "source": [
    "## Data Science Tools\n",
    "\n",
    "| Tool         | Description                     |\n",
    "|--------------|---------------------------------|\n",
    "| Jupyter      | Interactive notebooks           |\n",
    "| TensorFlow   | Machine learning library        |\n",
    "| scikit-learn | Machine learning toolkit        |\n",
    "\n",
    "## Arithmetic Expressions\n",
    "\n",
    "Let's explore some basic arithmetic operations using Python."
   ]
  },
  {
   "cell_type": "code",
   "execution_count": 1,
   "id": "a64d4faf-d4db-4036-bb77-5591d42996d1",
   "metadata": {},
   "outputs": [
    {
     "data": {
      "text/plain": [
       "(50, 15)"
      ]
     },
     "execution_count": 1,
     "metadata": {},
     "output_type": "execute_result"
    }
   ],
   "source": [
    "# Multiply and add numbers\n",
    "a = 5\n",
    "b = 10\n",
    "multiplication_result = a * b\n",
    "addition_result = a + b\n",
    "multiplication_result, addition_result"
   ]
  },
  {
   "cell_type": "markdown",
   "id": "ecea0c6a",
   "metadata": {},
   "source": [
    "<h3>The Following Code will Display today's time and date</h3> "
   ]
  },
  {
   "cell_type": "code",
   "execution_count": 2,
   "id": "13732add",
   "metadata": {},
   "outputs": [
    {
     "name": "stdout",
     "output_type": "stream",
     "text": [
      "Today's Date and Time is  2024-06-29 20:16:32.750533\n"
     ]
    }
   ],
   "source": [
    "import datetime \n",
    "message = \"Today's Date and Time is \" \n",
    "print (message , datetime.datetime.now() )"
   ]
  },
  {
   "cell_type": "code",
   "execution_count": null,
   "id": "c09c17b7-397d-4a2a-bdf7-80bb9b96c5e0",
   "metadata": {},
   "outputs": [],
   "source": []
  }
 ],
 "metadata": {
  "kernelspec": {
   "display_name": "Python 3 (ipykernel)",
   "language": "python",
   "name": "python3"
  },
  "language_info": {
   "codemirror_mode": {
    "name": "ipython",
    "version": 3
   },
   "file_extension": ".py",
   "mimetype": "text/x-python",
   "name": "python",
   "nbconvert_exporter": "python",
   "pygments_lexer": "ipython3",
   "version": "3.12.1"
  }
 },
 "nbformat": 4,
 "nbformat_minor": 5
}
